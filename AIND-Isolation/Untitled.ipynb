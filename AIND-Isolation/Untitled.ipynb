{
 "cells": [
  {
   "cell_type": "code",
   "execution_count": null,
   "metadata": {},
   "outputs": [],
   "source": [
    "    def minimax(self, game, depth):\n",
    "        if self.time_left() < self.TIMER_THRESHOLD:\n",
    "            raise SearchTimeout()\n",
    "\n",
    "        best_score = float(\"-inf\")\n",
    "        best_move = None\n",
    "        for m in game.get_legal_moves():\n",
    "            depth_count = 1\n",
    "            v = self.max_value(game.forecast_move(m), depth_count)\n",
    "            if v > best_score:\n",
    "                best_score = v\n",
    "                best_move = m\n",
    "        return best_move\n",
    "\n",
    "    def min_value(self, game, depth):\n",
    "        if self.time_left() < self.TIMER_THRESHOLD:\n",
    "            raise SearchTimeout()\n",
    "        depth += 1\n",
    "        legal_moves = game.get_legal_moves(game._active_player)\n",
    "        if depth >= self.search_depth:\n",
    "            return self.score(game, game._active_player)\n",
    "        v = float(\"inf\")\n",
    "        for m in legal_moves:\n",
    "            v = min(v, self.max_value(game.forecast_move(m), depth))\n",
    "        return v\n",
    "\n",
    "    def max_value(self, game, depth):\n",
    "        if self.time_left() < self.TIMER_THRESHOLD:\n",
    "            raise SearchTimeout()\n",
    "        depth += 1\n",
    "        legal_moves = game.get_legal_moves(game._active_player)\n",
    "        if depth >= self.search_depth:\n",
    "            return self.score(game, game._active_player)\n",
    "        v = float(\"-inf\")\n",
    "        for m in legal_moves:\n",
    "            v = max(v, self.min_value(game.forecast_move(m), depth))\n",
    "        return v"
   ]
  }
 ],
 "metadata": {
  "kernelspec": {
   "display_name": "Python 3",
   "language": "python",
   "name": "python3"
  },
  "language_info": {
   "codemirror_mode": {
    "name": "ipython",
    "version": 3
   },
   "file_extension": ".py",
   "mimetype": "text/x-python",
   "name": "python",
   "nbconvert_exporter": "python",
   "pygments_lexer": "ipython3",
   "version": "3.5.4"
  }
 },
 "nbformat": 4,
 "nbformat_minor": 2
}
